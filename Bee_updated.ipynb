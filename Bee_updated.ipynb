{
  "cells": [
    {
      "cell_type": "code",
      "source": [
        "import csv\n",
        "\n",
        "# Step 1: read(csv_file)\n",
        "def read(csv_file):\n",
        "    data = []\n",
        "    with open(csv_file, newline='') as csvfile:\n",
        "        reader = csv.reader(csvfile)\n",
        "        for row in reader:\n",
        "            data.append(row)\n",
        "    return data\n",
        "\n",
        "# Step 2: filter_data(user_input, data)\n",
        "def filter_data(user_input, data):\n",
        "    user_input = user_input.upper()\n",
        "    filtered_data = [row for row in data if user_input in row[4].upper() or user_input in row[0].upper()]  # Adjusted to search in the species/genus and sociality columns\n",
        "    return filtered_data\n",
        "\n",
        "# Step 3: calc_averages(filtered_data)\n",
        "def calc_averages(filtered_data):\n",
        "    total_entries = len(filtered_data)\n",
        "    total_concentration = sum(float(row[7]) for row in filtered_data)\n",
        "    total_longevity = sum(float(row[8]) for row in filtered_data)\n",
        "    total_days_paralyzed = sum(float(row[9]) for row in filtered_data)\n",
        "\n",
        "    avg_concentration = total_concentration / total_entries\n",
        "    avg_longevity = total_longevity / total_entries\n",
        "    avg_days_paralyzed = total_days_paralyzed / total_entries\n",
        "\n",
        "    return avg_concentration, avg_longevity, avg_days_paralyzed\n",
        "\n",
        "# Step 4: calc_minimums(filtered_data)\n",
        "def calc_minimums(filtered_data):\n",
        "    min_concentration = min(float(row[7]) for row in filtered_data)\n",
        "    min_longevity = min(float(row[8]) for row in filtered_data)\n",
        "    min_days_paralyzed = min(float(row[9]) for row in filtered_data)\n",
        "\n",
        "    return min_concentration, min_longevity, min_days_paralyzed\n",
        "\n",
        "# Step 5: calc_maximums(filtered_data)\n",
        "def calc_maximums(filtered_data):\n",
        "    max_concentration = max(float(row[7]) for row in filtered_data)\n",
        "    max_longevity = max(float(row[8]) for row in filtered_data)\n",
        "    max_days_paralyzed = max(float(row[9]) for row in filtered_data)\n",
        "\n",
        "    return max_concentration, max_longevity, max_days_paralyzed\n",
        "\n",
        "# Step 6: print_stats(user_input, stat_type, stats)\n",
        "def print_stats(user_input, stat_type, stats):\n",
        "    print(f\"\\n{stat_type} for {user_input.upper()} bees:\")\n",
        "    print(f\"{stat_type} Imidacloprid Concentration: {stats[0]:.2f}\")\n",
        "    print(f\"{stat_type} Longevity: {stats[1]:.2f}\")\n",
        "    print(f\"{stat_type} Days Paralyzed: {stats[2]:.2f}\\n\")\n",
        "\n",
        "# Step 7: finish run(data)\n",
        "def run(data):\n",
        "    while True:\n",
        "        user_input = input(\"\\nEnter the species/genus or the sociality of bee you would like information about: \")\n",
        "        filtered_data = filter_data(user_input, data)\n",
        "\n",
        "        if not filtered_data:\n",
        "            print(\"Test not found. Please enter a valid sociality, species, or genus.\")\n",
        "            continue\n",
        "\n",
        "        averages = calc_averages(filtered_data)\n",
        "        minimums = calc_minimums(filtered_data)\n",
        "        maximums = calc_maximums(filtered_data)\n",
        "\n",
        "        print_stats(user_input, \"Averages\", averages)\n",
        "        print_stats(user_input, \"Minimums\", minimums)\n",
        "        print_stats(user_input, \"Maximums\", maximums)\n",
        "\n",
        "        if input(\"Would you like to see more data? (Y/N) \").upper() != 'Y':\n",
        "            break\n",
        "\n",
        "if __name__ == \"__main__\":\n",
        "    csv_file = input(\"Enter the file to read: \")\n",
        "    data = read(csv_file)\n",
        "    run(data)\n"
      ],
      "metadata": {
        "colab": {
          "base_uri": "https://localhost:8080/"
        },
        "id": "WxLoO0Uz7HSc",
        "outputId": "0ccb5a5b-2fdb-4204-e68e-17d2b1d61bc1"
      },
      "execution_count": 37,
      "outputs": [
        {
          "name": "stdout",
          "output_type": "stream",
          "text": [
            "Enter the file to read: /content/BEETOX.csv\n",
            "\n",
            "Enter the species/genus or the sociality of bee you would like information about: Solitary\n",
            "\n",
            "Averages for SOLITARY bees:\n",
            "Averages Imidacloprid Concentration: 29.48\n",
            "Averages Longevity: 5.27\n",
            "Averages Days Paralyzed: 1.33\n",
            "\n",
            "\n",
            "Minimums for SOLITARY bees:\n",
            "Minimums Imidacloprid Concentration: 0.00\n",
            "Minimums Longevity: 1.00\n",
            "Minimums Days Paralyzed: 0.00\n",
            "\n",
            "\n",
            "Maximums for SOLITARY bees:\n",
            "Maximums Imidacloprid Concentration: 100.00\n",
            "Maximums Longevity: 24.00\n",
            "Maximums Days Paralyzed: 14.00\n",
            "\n",
            "Would you like to see more data? (Y/N) n\n"
          ]
        }
      ]
    }
  ],
  "metadata": {
    "colab": {
      "provenance": []
    },
    "kernelspec": {
      "display_name": "Python 3",
      "name": "python3"
    },
    "language_info": {
      "name": "python"
    }
  },
  "nbformat": 4,
  "nbformat_minor": 0
}